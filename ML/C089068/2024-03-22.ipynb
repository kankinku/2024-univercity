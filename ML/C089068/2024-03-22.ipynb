{
 "cells": [
  {
   "cell_type": "code",
   "execution_count": 1,
   "metadata": {},
   "outputs": [
    {
     "name": "stdout",
     "output_type": "stream",
     "text": [
      "Keys of iris_dataset: \n",
      "dict_keys(['data', 'target', 'frame', 'target_names', 'DESCR', 'feature_names', 'filename'])\n",
      ".. _iris_dataset:\n",
      "\n",
      "Iris plants dataset\n",
      "--------------------\n",
      "\n",
      "**Data Set Characteristics:**\n",
      "\n",
      "    :Number of Instances: 150 (50 in each of three classes)\n",
      "    :Number of Attributes: 4 numeric, pre\n",
      "...\n",
      "Target names: ['setosa' 'versicolor' 'virginica']\n",
      "Feature names: \n",
      "['sepal length (cm)', 'sepal width (cm)', 'petal length (cm)', 'petal width (cm)']\n",
      "Type of data: <class 'numpy.ndarray'>\n",
      "Shape of data: (150, 4)\n",
      "First five columns of data:\n",
      "[[5.1 3.5 1.4 0.2]\n",
      " [4.9 3.  1.4 0.2]\n",
      " [4.7 3.2 1.3 0.2]\n",
      " [4.6 3.1 1.5 0.2]\n",
      " [5.  3.6 1.4 0.2]]\n",
      "Type of target: <class 'numpy.ndarray'>\n",
      "Shape of target: (150,)\n",
      "Target:\n",
      "[0 0 0 0 0 0 0 0 0 0 0 0 0 0 0 0 0 0 0 0 0 0 0 0 0 0 0 0 0 0 0 0 0 0 0 0 0\n",
      " 0 0 0 0 0 0 0 0 0 0 0 0 0 1 1 1 1 1 1 1 1 1 1 1 1 1 1 1 1 1 1 1 1 1 1 1 1\n",
      " 1 1 1 1 1 1 1 1 1 1 1 1 1 1 1 1 1 1 1 1 1 1 1 1 1 1 2 2 2 2 2 2 2 2 2 2 2\n",
      " 2 2 2 2 2 2 2 2 2 2 2 2 2 2 2 2 2 2 2 2 2 2 2 2 2 2 2 2 2 2 2 2 2 2 2 2 2\n",
      " 2 2]\n",
      "X_train의 크기 :  (105, 4)\n",
      "y_train의 크기 :  (45, 4)\n",
      "X_train shape: (105, 4)\n",
      "y_train shape: (105,)\n",
      "Collecting mglearn\n",
      "  Downloading mglearn-0.2.0-py2.py3-none-any.whl (581 kB)\n",
      "Requirement already satisfied: pandas in c:\\programdata\\anaconda3\\lib\\site-packages (from mglearn) (1.1.3)\n",
      "Requirement already satisfied: joblib in c:\\programdata\\anaconda3\\lib\\site-packages (from mglearn) (0.17.0)\n",
      "Requirement already satisfied: numpy in c:\\programdata\\anaconda3\\lib\\site-packages (from mglearn) (1.19.2)\n",
      "Requirement already satisfied: imageio in c:\\programdata\\anaconda3\\lib\\site-packages (from mglearn) (2.9.0)\n",
      "Requirement already satisfied: matplotlib in c:\\programdata\\anaconda3\\lib\\site-packages (from mglearn) (3.3.2)\n",
      "Requirement already satisfied: scikit-learn in c:\\programdata\\anaconda3\\lib\\site-packages (from mglearn) (0.23.2)\n",
      "Requirement already satisfied: cycler in c:\\programdata\\anaconda3\\lib\\site-packages (from mglearn) (0.10.0)\n",
      "Requirement already satisfied: pillow in c:\\programdata\\anaconda3\\lib\\site-packages (from mglearn) (8.0.1)\n",
      "Requirement already satisfied: python-dateutil>=2.7.3 in c:\\programdata\\anaconda3\\lib\\site-packages (from pandas->mglearn) (2.8.1)\n",
      "Requirement already satisfied: pytz>=2017.2 in c:\\programdata\\anaconda3\\lib\\site-packages (from pandas->mglearn) (2020.1)\n",
      "Requirement already satisfied: certifi>=2020.06.20 in c:\\programdata\\anaconda3\\lib\\site-packages (from matplotlib->mglearn) (2020.6.20)\n",
      "Requirement already satisfied: pyparsing!=2.0.4,!=2.1.2,!=2.1.6,>=2.0.3 in c:\\programdata\\anaconda3\\lib\\site-packages (from matplotlib->mglearn) (2.4.7)\n",
      "Requirement already satisfied: kiwisolver>=1.0.1 in c:\\programdata\\anaconda3\\lib\\site-packages (from matplotlib->mglearn) (1.3.0)\n",
      "Requirement already satisfied: scipy>=0.19.1 in c:\\programdata\\anaconda3\\lib\\site-packages (from scikit-learn->mglearn) (1.5.2)\n",
      "Requirement already satisfied: threadpoolctl>=2.0.0 in c:\\programdata\\anaconda3\\lib\\site-packages (from scikit-learn->mglearn) (2.1.0)\n",
      "Requirement already satisfied: six in c:\\programdata\\anaconda3\\lib\\site-packages (from cycler->mglearn) (1.15.0)\n",
      "Installing collected packages: mglearn\n",
      "Successfully installed mglearn-0.2.0\n"
     ]
    },
    {
     "ename": "ModuleNotFoundError",
     "evalue": "No module named 'scatter_matrix'",
     "output_type": "error",
     "traceback": [
      "\u001b[1;31m---------------------------------------------------------------------------\u001b[0m",
      "\u001b[1;31mModuleNotFoundError\u001b[0m                       Traceback (most recent call last)",
      "\u001b[1;32m<ipython-input-1-cba70cea0ab1>\u001b[0m in \u001b[0;36m<module>\u001b[1;34m\u001b[0m\n\u001b[0;32m    119\u001b[0m \u001b[0mget_ipython\u001b[0m\u001b[1;33m(\u001b[0m\u001b[1;33m)\u001b[0m\u001b[1;33m.\u001b[0m\u001b[0msystem\u001b[0m\u001b[1;33m(\u001b[0m\u001b[1;34m'pip install mglearn'\u001b[0m\u001b[1;33m)\u001b[0m\u001b[1;33m\u001b[0m\u001b[1;33m\u001b[0m\u001b[0m\n\u001b[0;32m    120\u001b[0m \u001b[1;32mimport\u001b[0m \u001b[0mpandas\u001b[0m\u001b[1;33m.\u001b[0m\u001b[0mplotting\u001b[0m\u001b[1;33m\u001b[0m\u001b[1;33m\u001b[0m\u001b[0m\n\u001b[1;32m--> 121\u001b[1;33m \u001b[1;32mimport\u001b[0m \u001b[0mscatter_matrix\u001b[0m\u001b[1;33m\u001b[0m\u001b[1;33m\u001b[0m\u001b[0m\n\u001b[0m\u001b[0;32m    122\u001b[0m \u001b[1;32mimport\u001b[0m \u001b[0mmglearn\u001b[0m\u001b[1;33m\u001b[0m\u001b[1;33m\u001b[0m\u001b[0m\n\u001b[0;32m    123\u001b[0m \u001b[1;33m\u001b[0m\u001b[0m\n",
      "\u001b[1;31mModuleNotFoundError\u001b[0m: No module named 'scatter_matrix'"
     ]
    }
   ],
   "source": [
    "#!/usr/bin/env python\n",
    "# coding: utf-8\n",
    "\n",
    "# In[ ]:\n",
    "\n",
    "\n",
    "# 2024-03-21 page 32\n",
    "\n",
    "\n",
    "# In[2]:\n",
    "\n",
    "\n",
    "import numpy as np\n",
    "import matplotlib.pyplot as plt\n",
    "import pandas as pd\n",
    "\n",
    "\n",
    "# In[3]:\n",
    "\n",
    "\n",
    "from sklearn.datasets import load_iris\n",
    "iris_dataset = load_iris()\n",
    "\n",
    "\n",
    "# In[4]:\n",
    "\n",
    "\n",
    "print(\"Keys of iris_dataset: \\n{}\".format(iris_dataset.keys()))\n",
    "\n",
    "\n",
    "# In[5]:\n",
    "\n",
    "\n",
    "print(iris_dataset['DESCR'][:193] + \"\\n...\")\n",
    "\n",
    "\n",
    "# In[6]:\n",
    "\n",
    "\n",
    "print(\"Target names: {}\".format(iris_dataset['target_names']))\n",
    "\n",
    "\n",
    "# In[7]:\n",
    "\n",
    "\n",
    "print(\"Feature names: \\n{}\".format(iris_dataset['feature_names']))\n",
    "\n",
    "\n",
    "# In[8]:\n",
    "\n",
    "\n",
    "print(\"Type of data: {}\".format(type(iris_dataset['data'])))\n",
    "\n",
    "\n",
    "# In[9]:\n",
    "\n",
    "\n",
    "print(\"Shape of data: {}\".format(iris_dataset['data'].shape))\n",
    "\n",
    "\n",
    "# In[10]:\n",
    "\n",
    "\n",
    "print(\"First five columns of data:\\n{}\".format(iris_dataset['data'][:5]))\n",
    "\n",
    "\n",
    "# In[11]:\n",
    "\n",
    "\n",
    "print(\"Type of target: {}\".format(type(iris_dataset['target'])))\n",
    "\n",
    "\n",
    "# In[12]:\n",
    "\n",
    "\n",
    "print(\"Shape of target: {}\".format(iris_dataset['target'].shape))\n",
    "\n",
    "\n",
    "# In[13]:\n",
    "\n",
    "\n",
    "print(\"Target:\\n{}\".format(iris_dataset['target']))\n",
    "\n",
    "\n",
    "# In[17]:\n",
    "\n",
    "\n",
    "from sklearn.model_selection import train_test_split\n",
    "\n",
    "X_train, X_test, y_train, y_test = train_test_split(\n",
    "    iris_dataset['data'], iris_dataset['target'], test_size=0.3 ,random_state=0)\n",
    "# random_state 데이터를 읽기 시작하는 지점 = 0번으로 지정\n",
    "\n",
    "\n",
    "# In[21]:\n",
    "\n",
    "\n",
    "print(\"X_train의 크기 : \", X_train.shape)\n",
    "print(\"y_train의 크기 : \", X_test.shape)\n",
    "\n",
    "\n",
    "# In[18]:\n",
    "\n",
    "\n",
    "print(\"X_train shape: {}\".format(X_train.shape))\n",
    "# X_train의 크기를 알아보기\n",
    "\n",
    "\n",
    "# In[19]:\n",
    "\n",
    "\n",
    "print(\"y_train shape: {}\".format(y_train.shape))\n",
    "# Y_train의 크기를 알아보기\n",
    "\n",
    "\n",
    "# In[31]:\n",
    "\n",
    "\n",
    "get_ipython().system('pip install mglearn')\n",
    "import pandas.plotting \n",
    "import scatter_matrix\n",
    "import mglearn\n",
    "\n",
    "\n",
    "# In[32]:\n",
    "\n",
    "\n",
    "# create dataframe from data in X_train\n",
    "# label the columns using the strings in iris_dataset.feature_names\n",
    "iris_dataframe = pd.DataFrame(X_train, columns=iris_dataset.feature_names)\n",
    "# create a scatter matrix from the dataframe, color by y_train\n",
    "scatter_matrix(iris_dataframe, c=y_train, figsize=(15, 15), marker='o',hist_kwds={'bins': 20}, s=60, alpha=.8, cmap=mglearn.cm3)\n",
    "plt.show()\n",
    "\n",
    "\n",
    "# In[ ]:\n"
   ]
  },
  {
   "cell_type": "code",
   "execution_count": 4,
   "metadata": {},
   "outputs": [],
   "source": [
    "from sklearn.neighbors import KNeighborsClassifier\n",
    "knn = KNeighborsClassifier(n_neighbors=1)\n",
    "# 모델 생성"
   ]
  },
  {
   "cell_type": "code",
   "execution_count": 5,
   "metadata": {},
   "outputs": [
    {
     "data": {
      "text/plain": [
       "KNeighborsClassifier(n_neighbors=1)"
      ]
     },
     "execution_count": 5,
     "metadata": {},
     "output_type": "execute_result"
    }
   ],
   "source": [
    "knn.fit(X_train,y_train)\n",
    "# 모델 학습"
   ]
  },
  {
   "cell_type": "code",
   "execution_count": 7,
   "metadata": {},
   "outputs": [
    {
     "name": "stdout",
     "output_type": "stream",
     "text": [
      "X_new.shape: (1, 4)\n"
     ]
    }
   ],
   "source": [
    "X_new = np.array([[5,2.9,1,0.2]])\n",
    "print(\"X_new.shape: {}\".format(X_new.shape))\n",
    "# 크기 출력 1,4의 크기를 갖는다."
   ]
  },
  {
   "cell_type": "code",
   "execution_count": 10,
   "metadata": {},
   "outputs": [
    {
     "name": "stdout",
     "output_type": "stream",
     "text": [
      "예측 :  [0]\n",
      "Prediction: [0]\n",
      "예측 결과 클래스 이름 : \n"
     ]
    }
   ],
   "source": [
    "# 예측하기 위한 모델\n",
    "prediction = knn.predict(X_new)\n",
    "# 0,1,2만 나올건데 그게 무슨 의미인지 모름\n",
    "\n",
    "print(\"예측 : \", prediction)\n",
    "print(\"예측 결과 클래스 이름 : \".format(\n",
    "    iris_dataset[\"target_names\"][prediction]))\n"
   ]
  },
  {
   "cell_type": "code",
   "execution_count": 12,
   "metadata": {},
   "outputs": [
    {
     "name": "stdout",
     "output_type": "stream",
     "text": [
      "시험 세트에 대한 예측값\n",
      " [2 1 0 2 0 2 0 1 1 1 2 1 1 1 1 0 1 1 0 0 2 1 0 0 2 0 0 1 1 0 2 1 0 2 2 1 0\n",
      " 2 1 1 2 0 2 0 0]\n",
      "시험 세트에 대한 정확도: 0.977778\n",
      "시험 세트의 정확도 점수: 0.977778\n"
     ]
    }
   ],
   "source": [
    "y_pred = knn.predict(X_test)\n",
    "print(\"시험 세트에 대한 예측값\\n\", y_pred)\n",
    "print(\"시험 세트에 대한 정확도: {:2f}\".format(np.mean(y_pred == y_test)))\n",
    "# 다른 방법 테스트\n",
    "print(\"시험 세트의 정확도 점수: {:2f}\".format(knn.score(X_test,y_test)))"
   ]
  },
  {
   "cell_type": "code",
   "execution_count": null,
   "metadata": {},
   "outputs": [],
   "source": []
  }
 ],
 "metadata": {
  "kernelspec": {
   "display_name": "Python 3",
   "language": "python",
   "name": "python3"
  },
  "language_info": {
   "codemirror_mode": {
    "name": "ipython",
    "version": 3
   },
   "file_extension": ".py",
   "mimetype": "text/x-python",
   "name": "python",
   "nbconvert_exporter": "python",
   "pygments_lexer": "ipython3",
   "version": "3.8.5"
  }
 },
 "nbformat": 4,
 "nbformat_minor": 4
}
